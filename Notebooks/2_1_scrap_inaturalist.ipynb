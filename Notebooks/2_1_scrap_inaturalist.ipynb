{
 "cells": [
  {
   "attachments": {},
   "cell_type": "markdown",
   "metadata": {},
   "source": [
    "# <center> <u>**Scrap iNaturalist** </u></center>\n",
    "\n"
   ]
  },
  {
   "attachments": {},
   "cell_type": "markdown",
   "metadata": {},
   "source": [
    "# 1. Récupérer les noms latins des espèces désirées\n",
    "\n",
    "On part d'une csv d'espèces d'abeilles extraite sur [taxref](https://inpn.mnhn.fr/accueil/index) des espèces que l'on veut scraper. \n",
    "On transforme cette csv en liste de noms latins.\n",
    "Cette liste se trouve [ici](../datafiles/scrap_inat/taxref_abeilles.csv) dans notre cas. "
   ]
  },
  {
   "cell_type": "code",
   "execution_count": 5,
   "metadata": {},
   "outputs": [],
   "source": [
    "import pandas as pd\n",
    "import os \n",
    "\n",
    "path_to_desired_taxa = '/datafiles/scrap_inat/taxref_abeilles.csv'\n",
    "df_desired_taxa = pd.read_csv(path_to_desired_taxa, sep=';', encoding='latin-1')\n",
    "\n",
    "df_desired_taxa = df_desired_taxa['LB_NOM']\n",
    "df_desired_taxa = df_desired_taxa.drop_duplicates()\n"
   ]
  },
  {
   "cell_type": "code",
   "execution_count": 8,
   "metadata": {},
   "outputs": [],
   "source": [
    "path_folder_inat_util = '../data_bees_detection/inat_utils/'\n",
    "\n",
    "if not os.path.exists(path_folder_inat_util):\n",
    "    os.makedirs(path_folder_inat_util)\n",
    "\n",
    "# save the list of desired taxa\n",
    "path_to_save = path_folder_inat_util + 'desired_taxa.csv'\n",
    "# save the list of desired taxa\n",
    "df_desired_taxa.to_csv(path_to_save, index=False)\n"
   ]
  },
  {
   "attachments": {},
   "cell_type": "markdown",
   "metadata": {},
   "source": [
    "On cherche donc l'ensemble des points d'observation d'abeilles dans ce périmètre.\n",
    "\n",
    "On postule que :\n",
    "rayon terre = 6371km\n",
    "\n",
    "distance = arccos(sin(lat_cercle) * sin(lat_point) + cos(lat_cercle) * cos(lat_point) * cos(long_cercle - long_point)) * rayon_terrestre\n",
    "\n",
    "On cherche donc les points d'observation qui sont à une distance inférieure à 500km du centre du cercle.\n",
    "\n",
    "i.e.\n",
    "\n",
    "arccos(sin(lat_cercle) * sin(lat_point) + cos(lat_cercle) * cos(lat_point) * cos(long_cercle - long_point)) * rayon_terrestre <= 500\n",
    "\n"
   ]
  },
  {
   "attachments": {},
   "cell_type": "markdown",
   "metadata": {},
   "source": [
    "* bouding box france : 'FR': ('France', (-54.5247541978, 2.05338918702, 9.56001631027, 51.1485061713))"
   ]
  },
  {
   "attachments": {},
   "cell_type": "markdown",
   "metadata": {},
   "source": [
    "# 2. Télécharger et filtrer les métadonnées Inaturalist\n",
    "\n",
    "Pour ce faire, suivre le tuto décrit [ici](../datafiles/scrap_inat/download_inaturalist.md) \n"
   ]
  },
  {
   "attachments": {},
   "cell_type": "markdown",
   "metadata": {},
   "source": [
    "# 3. Télécharger les images"
   ]
  },
  {
   "attachments": {},
   "cell_type": "markdown",
   "metadata": {},
   "source": [
    "## 3.1 Déterminer la taille de l'image à télécharger"
   ]
  },
  {
   "cell_type": "code",
   "execution_count": 21,
   "metadata": {},
   "outputs": [
    {
     "name": "stdout",
     "output_type": "stream",
     "text": [
      "BD_71\n",
      "\n",
      "number of images:  103899\n",
      "               width         height\n",
      "count  103899.000000  103899.000000\n",
      "mean      509.809074     477.016766\n",
      "std       165.576518     122.910099\n",
      "min       109.000000     105.000000\n",
      "25%       375.000000     375.000000\n",
      "50%       500.000000     500.000000\n",
      "75%       500.000000     500.000000\n",
      "max      3900.000000    2600.000000\n",
      "Cropped_BD_71\n",
      "\n",
      "number of images:  105603\n",
      "               width         height\n",
      "count  105603.000000  105603.000000\n",
      "mean      216.787194     211.697054\n",
      "std       125.641958     121.986794\n",
      "min         1.000000       1.000000\n",
      "25%       121.000000     120.000000\n",
      "50%       194.000000     191.000000\n",
      "75%       293.000000     280.000000\n",
      "max      2245.000000    1975.000000\n"
     ]
    }
   ],
   "source": [
    "import os\n",
    "from PIL import Image\n",
    "import pandas as pd\n",
    "\n",
    "\n",
    "\n",
    "path_to_bd_71_cropped = '../data_bees_detection/Cropped_BD_71'\n",
    "path_to_bd_71 = '../data_bees_detection/BD_71'\n",
    "\n",
    "# get statistics on images size in each folder\n",
    "\n",
    "def get_stats(folder):\n",
    "\n",
    "    dict_sizes = {}\n",
    "\n",
    "    for root, dirs, files in os.walk(folder):\n",
    "\n",
    "        for file in files :\n",
    "\n",
    "            try :\n",
    "                #read the image\n",
    "                img = Image.open(os.path.join(root, file))\n",
    "            except :\n",
    "                continue\n",
    "\n",
    "            # get the size of the image\n",
    "            width, height = img.size\n",
    "\n",
    "            # add the size to the dict at file index\n",
    "            dict_sizes[file] = [width, height]\n",
    "\n",
    "    print('number of images: ', len(dict_sizes))\n",
    "\n",
    "    # make a dataframe\n",
    "    df = pd.DataFrame.from_dict(dict_sizes, orient='index')\n",
    "\n",
    "    # rename columns\n",
    "    df = df.rename(columns={0: \"width\", 1: \"height\"})\n",
    "\n",
    "    return df\n",
    "\n",
    "\n",
    "print('BD_71\\n')\n",
    "df = get_stats(path_to_bd_71)\n",
    "print(df.describe())\n",
    "\n",
    "print('Cropped_BD_71\\n')\n",
    "df = get_stats(path_to_bd_71_cropped)\n",
    "print(df.describe())\n",
    "\n"
   ]
  },
  {
   "attachments": {},
   "cell_type": "markdown",
   "metadata": {},
   "source": [
    "Conclusion : on peut télécharger les images en taille medium (500 pixels de largeur) pour les images qui ont une taille supérieure à 500 pixels de largeur."
   ]
  },
  {
   "attachments": {},
   "cell_type": "markdown",
   "metadata": {},
   "source": [
    "## 3.2 Télécharger les images\n"
   ]
  },
  {
   "cell_type": "code",
   "execution_count": 2,
   "metadata": {},
   "outputs": [],
   "source": [
    "output_folder = '../../data_bees_detection/Inaturalist_06_07'\n",
    "input_file = '../../data_bees_detection/inat_utils/inat_filter.csv'\n",
    "size = 'medium'"
   ]
  },
  {
   "cell_type": "code",
   "execution_count": null,
   "metadata": {},
   "outputs": [],
   "source": [
    "\n",
    "%run ../src/scrap_inat/get_data_from_inat.py -i $input_file -o $output_folder -s $size"
   ]
  }
 ],
 "metadata": {
  "kernelspec": {
   "display_name": "venv_bees_detection",
   "language": "python",
   "name": "python3"
  },
  "language_info": {
   "codemirror_mode": {
    "name": "ipython",
    "version": 3
   },
   "file_extension": ".py",
   "mimetype": "text/x-python",
   "name": "python",
   "nbconvert_exporter": "python",
   "pygments_lexer": "ipython3",
   "version": "3.8.10"
  },
  "orig_nbformat": 4
 },
 "nbformat": 4,
 "nbformat_minor": 2
}
