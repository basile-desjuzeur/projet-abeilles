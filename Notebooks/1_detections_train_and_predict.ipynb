{
 "cells": [
  {
   "attachments": {},
   "cell_type": "markdown",
   "metadata": {},
   "source": [
    "# <center> <u>**Détections** </u></center>\n",
    "\n"
   ]
  },
  {
   "attachments": {},
   "cell_type": "markdown",
   "metadata": {},
   "source": [
    "# 1. Chargement des données"
   ]
  },
  {
   "attachments": {},
   "cell_type": "markdown",
   "metadata": {},
   "source": [
    "## 1.1. Vériﬁcation des données\n",
    "\n",
    "On vérifie que le transfert entre le disque dur et le disque local s'est bien passé."
   ]
  },
  {
   "cell_type": "code",
   "execution_count": 20,
   "metadata": {},
   "outputs": [],
   "source": [
    "# define variables\n",
    "\n",
    "path_to_hard_drive = '/media/basile/One Touch/Disque dur Axel pour Basile/BD_71'\n",
    "path_to_jsons = '/data_bees_detection/BD_71_Annotations/JSON'\n",
    "path_to_images = '../data_bees_detection/BD_71'\n",
    "path_to_output = '/datafiles/yolo/inputs'\n",
    "\n",
    "# define the taxon to detect\n",
    "taxon_detection = 'Anthophila'"
   ]
  },
  {
   "cell_type": "code",
   "execution_count": 2,
   "metadata": {},
   "outputs": [
    {
     "name": "stdout",
     "output_type": "stream",
     "text": [
      "111983\n"
     ]
    }
   ],
   "source": [
    "! find $path_to_images -type f | wc -l"
   ]
  },
  {
   "attachments": {},
   "cell_type": "markdown",
   "metadata": {},
   "source": [
    "En lancant la commande : \n",
    "```\n",
    "\n",
    "! find \"$path_to_hard_drive\" -type f | wc -l\n",
    "```\n",
    "\n",
    "\n",
    "Depuis un terminal sur le disque dur on obtient aussi 111983."
   ]
  },
  {
   "attachments": {},
   "cell_type": "markdown",
   "metadata": {},
   "source": [
    "## 1.2. Edition d'un csv récapitulatif"
   ]
  },
  {
   "attachments": {},
   "cell_type": "markdown",
   "metadata": {},
   "source": [
    "csv avec seulement les chemins des images."
   ]
  },
  {
   "cell_type": "code",
   "execution_count": 19,
   "metadata": {},
   "outputs": [],
   "source": [
    "! find $path_to_images -type f >> $path_to_output/BD_71.csv"
   ]
  },
  {
   "attachments": {},
   "cell_type": "markdown",
   "metadata": {},
   "source": [
    "csv issus des fichiers json avec le format suivant :\n",
    "\n",
    "* image_path\n",
    "* xmin\n",
    "* ymin\n",
    "* xmax\n",
    "* ymax\n",
    "* label\n",
    "* width\n",
    "* height\n",
    "\n",
    "Edité avec le script [suivant](../src/yolo/utils_for_datafiles/json_to_csv.py).\n"
   ]
  },
  {
   "cell_type": "code",
   "execution_count": 21,
   "metadata": {},
   "outputs": [],
   "source": [
    "%run /src/yolo/utils_for_datafiles/json_to_csv.py  -j $path_to_jsons -i $path_to_images -t $taxon_detection -o $path_to_output"
   ]
  },
  {
   "attachments": {},
   "cell_type": "markdown",
   "metadata": {},
   "source": [
    "Visiblement certaines images sont manquantes (référencées dans BD_71_missing_old.csv) : les images sont corrompues ou manquantes."
   ]
  },
  {
   "cell_type": "code",
   "execution_count": 28,
   "metadata": {},
   "outputs": [],
   "source": [
    "import pandas as pd\n",
    "# remplacer les images corrompues par des images saines\n",
    "path_missing = '/datafiles/yolo/inputs/BD_71_missing.csv'\n",
    "df_missing = pd.read_csv(path_missing, header=None,skiprows=1)\n",
    "\n",
    "path_saines = '../data_bees_detection/corrompues_bd71'\n",
    "\n",
    "df_missing['img_name'] = df_missing[0].apply(lambda x: x.split('/')[-1])\n",
    "df_missing['new_path'] = df_missing['img_name'].apply(lambda x: path_saines + '/' + x)"
   ]
  },
  {
   "cell_type": "code",
   "execution_count": 29,
   "metadata": {},
   "outputs": [
    {
     "data": {
      "text/html": [
       "<div>\n",
       "<style scoped>\n",
       "    .dataframe tbody tr th:only-of-type {\n",
       "        vertical-align: middle;\n",
       "    }\n",
       "\n",
       "    .dataframe tbody tr th {\n",
       "        vertical-align: top;\n",
       "    }\n",
       "\n",
       "    .dataframe thead th {\n",
       "        text-align: right;\n",
       "    }\n",
       "</style>\n",
       "<table border=\"1\" class=\"dataframe\">\n",
       "  <thead>\n",
       "    <tr style=\"text-align: right;\">\n",
       "      <th></th>\n",
       "      <th>0</th>\n",
       "      <th>img_name</th>\n",
       "      <th>new_path</th>\n",
       "    </tr>\n",
       "  </thead>\n",
       "  <tbody>\n",
       "    <tr>\n",
       "      <th>0</th>\n",
       "      <td>/workspaces/projet_bees_detection_basile/data_...</td>\n",
       "      <td>Bombus pascuorum96207.jpeg</td>\n",
       "      <td>/workspaces/projet_bees_detection_basile/data_...</td>\n",
       "    </tr>\n",
       "    <tr>\n",
       "      <th>1</th>\n",
       "      <td>/workspaces/projet_bees_detection_basile/data_...</td>\n",
       "      <td>_dsc0461.jpg</td>\n",
       "      <td>/workspaces/projet_bees_detection_basile/data_...</td>\n",
       "    </tr>\n",
       "    <tr>\n",
       "      <th>2</th>\n",
       "      <td>/workspaces/projet_bees_detection_basile/data_...</td>\n",
       "      <td>DH9_1898-4.jpg</td>\n",
       "      <td>/workspaces/projet_bees_detection_basile/data_...</td>\n",
       "    </tr>\n",
       "    <tr>\n",
       "      <th>3</th>\n",
       "      <td>/workspaces/projet_bees_detection_basile/data_...</td>\n",
       "      <td>DH9_1916-2.jpg</td>\n",
       "      <td>/workspaces/projet_bees_detection_basile/data_...</td>\n",
       "    </tr>\n",
       "    <tr>\n",
       "      <th>4</th>\n",
       "      <td>/workspaces/projet_bees_detection_basile/data_...</td>\n",
       "      <td>DH9_1899-2.jpg</td>\n",
       "      <td>/workspaces/projet_bees_detection_basile/data_...</td>\n",
       "    </tr>\n",
       "  </tbody>\n",
       "</table>\n",
       "</div>"
      ],
      "text/plain": [
       "                                                   0  \\\n",
       "0  /workspaces/projet_bees_detection_basile/data_...   \n",
       "1  /workspaces/projet_bees_detection_basile/data_...   \n",
       "2  /workspaces/projet_bees_detection_basile/data_...   \n",
       "3  /workspaces/projet_bees_detection_basile/data_...   \n",
       "4  /workspaces/projet_bees_detection_basile/data_...   \n",
       "\n",
       "                     img_name  \\\n",
       "0  Bombus pascuorum96207.jpeg   \n",
       "1                _dsc0461.jpg   \n",
       "2              DH9_1898-4.jpg   \n",
       "3              DH9_1916-2.jpg   \n",
       "4              DH9_1899-2.jpg   \n",
       "\n",
       "                                            new_path  \n",
       "0  /workspaces/projet_bees_detection_basile/data_...  \n",
       "1  /workspaces/projet_bees_detection_basile/data_...  \n",
       "2  /workspaces/projet_bees_detection_basile/data_...  \n",
       "3  /workspaces/projet_bees_detection_basile/data_...  \n",
       "4  /workspaces/projet_bees_detection_basile/data_...  "
      ]
     },
     "execution_count": 29,
     "metadata": {},
     "output_type": "execute_result"
    }
   ],
   "source": [
    "df_missing.head()"
   ]
  },
  {
   "cell_type": "code",
   "execution_count": 31,
   "metadata": {},
   "outputs": [
    {
     "name": "stderr",
     "output_type": "stream",
     "text": [
      "cp: cannot stat '/workspaces/projet_bees_detection_basile/data_bees_detection/corrompues_bd71/Bombus pascuorum96207.jpeg': No such file or directory\n",
      "cp: cannot stat '/workspaces/projet_bees_detection_basile/data_bees_detection/corrompues_bd71/_dsc0461.jpg': No such file or directory\n"
     ]
    }
   ],
   "source": [
    "import os\n",
    "\n",
    "for index, row in df_missing.iterrows():\n",
    "    \n",
    "    # copy the image from the saines folder to the BD_71 folder\n",
    "    os.system('cp \"' + row['new_path'] + '\" \"' + row[0] + '\"')"
   ]
  },
  {
   "attachments": {},
   "cell_type": "markdown",
   "metadata": {},
   "source": [
    "Vériﬁcation des images manquantes :"
   ]
  },
  {
   "cell_type": "code",
   "execution_count": 32,
   "metadata": {},
   "outputs": [],
   "source": [
    "%run /src/yolo/utils_for_datafiles/json_to_csv.py  -j $path_to_jsons -i $path_to_images -t $taxon_detection -o $path_to_output"
   ]
  },
  {
   "attachments": {},
   "cell_type": "markdown",
   "metadata": {},
   "source": [
    "### Parenthèse : pourquoi il y a des images manquantes ?\n",
    "\n",
    "i.e. pourquoi 111983 images dans BD_71 et seulement 24802 dans BD_71_input.csv ?\n",
    "\n",
    "Car on ne prend que les images qui ont été vérifiées. \n",
    "\n",
    "Cf. la démonstration dans le notebook [suivant](../Notebooks/(old%20_%20check_json).ipynb)."
   ]
  },
  {
   "attachments": {},
   "cell_type": "markdown",
   "metadata": {},
   "source": [
    "## 1.3. Split des données en train / test / validation"
   ]
  },
  {
   "cell_type": "code",
   "execution_count": 34,
   "metadata": {},
   "outputs": [],
   "source": [
    "path_to_dataset = '/datafiles/yolo/inputs/BD_71_input.csv'\n",
    "\n",
    "df_dataset = pd.read_csv(path_to_dataset, header=None)\n",
    "\n",
    "# shuffle the dataset\n",
    "df_dataset = df_dataset.sample(frac=1).reset_index(drop=True)\n",
    "\n",
    "# split the dataset into train, test and validation sets\n",
    "# 80% train, 10% test, 10% validation\n",
    "\n",
    "train_size = int(df_dataset.shape[0] * 0.8)\n",
    "test_size = int(df_dataset.shape[0] * 0.1)\n",
    "val_size = int(df_dataset.shape[0] * 0.1)\n",
    "\n",
    "df_train = df_dataset.iloc[:train_size]\n",
    "df_test = df_dataset.iloc[train_size:train_size+test_size]\n",
    "df_val = df_dataset.iloc[train_size+test_size:]\n",
    "\n",
    "# save the datasets\n",
    "path_to_train = '/datafiles/yolo/inputs/BD_71_train.csv'\n",
    "path_to_test = '/datafiles/yolo/inputs/BD_71_test.csv'\n",
    "path_to_val = '/datafiles/yolo/inputs/BD_71_val.csv'\n",
    "\n",
    "df_train.to_csv(path_to_train, header=None, index=False)\n",
    "df_test.to_csv(path_to_test, header=None, index=False)\n",
    "df_val.to_csv(path_to_val, header=None, index=False)"
   ]
  },
  {
   "attachments": {},
   "cell_type": "markdown",
   "metadata": {},
   "source": [
    "# 2. Entraînement du modèle"
   ]
  },
  {
   "attachments": {},
   "cell_type": "markdown",
   "metadata": {},
   "source": [
    "## 2.1 Générer des anchor box\n",
    "\n",
    "On pourra utiliser ce [template](../datafiles/yolo/configs/benchmark_configs/example.json) de fichier de conﬁguration pour commencer.\n",
    "\n",
    "Le script [suivant](../src/yolo/utils/gen_anchors.py) permet de générer des anchor box."
   ]
  },
  {
   "cell_type": "code",
   "execution_count": 6,
   "metadata": {},
   "outputs": [],
   "source": [
    "config_path = '/datafiles/yolo/configs/benchmark_configs/example.json'\n",
    "nb_anchors = 5\n"
   ]
  },
  {
   "cell_type": "code",
   "execution_count": 9,
   "metadata": {},
   "outputs": [
    {
     "name": "stderr",
     "output_type": "stream",
     "text": [
      "  0%|          | 0/19841 [00:00<?, ?it/s]"
     ]
    },
    {
     "name": "stderr",
     "output_type": "stream",
     "text": [
      "100%|██████████| 19841/19841 [00:00<00:00, 189654.77it/s]\n",
      "2023-07-05 21:30:14.222848: E tensorflow/compiler/xla/stream_executor/cuda/cuda_driver.cc:266] failed call to cuInit: CUDA_ERROR_NO_DEVICE: no CUDA-capable device is detected\n",
      "2023-07-05 21:30:14.222877: I tensorflow/compiler/xla/stream_executor/cuda/cuda_diagnostics.cc:168] retrieving CUDA diagnostic information for host: f65f42a282a8\n",
      "2023-07-05 21:30:14.222883: I tensorflow/compiler/xla/stream_executor/cuda/cuda_diagnostics.cc:175] hostname: f65f42a282a8\n",
      "2023-07-05 21:30:14.222982: I tensorflow/compiler/xla/stream_executor/cuda/cuda_diagnostics.cc:199] libcuda reported version is: NOT_FOUND: was unable to find libcuda.so DSO loaded into this program\n",
      "2023-07-05 21:30:14.223073: I tensorflow/compiler/xla/stream_executor/cuda/cuda_diagnostics.cc:203] kernel reported version is: 510.108.3\n"
     ]
    },
    {
     "name": "stdout",
     "output_type": "stream",
     "text": [
      "feature extractor output shape: (7, 7)\n",
      "grid size: 32.0 x 32.0\n",
      "iteration 1: dists = 53781.054326253776\n",
      "iteration 2: dists = 5689.58627195336\n",
      "iteration 3: dists = 981.375237331076\n",
      "iteration 4: dists = 489.63697201631794\n",
      "iteration 5: dists = 380.94913897540494\n",
      "iteration 6: dists = 330.63857840727735\n",
      "iteration 7: dists = 247.7071562017945\n",
      "iteration 8: dists = 227.56105462402465\n",
      "iteration 9: dists = 186.2180919749961\n",
      "iteration 10: dists = 168.30232192469404\n",
      "iteration 11: dists = 116.4734374365683\n",
      "iteration 12: dists = 101.77870792695333\n",
      "iteration 13: dists = 84.65858050382136\n",
      "iteration 14: dists = 83.10064015129528\n",
      "iteration 15: dists = 73.18377370377317\n",
      "iteration 16: dists = 43.71904567227098\n",
      "iteration 17: dists = 30.83243374718775\n",
      "iteration 18: dists = 30.9869460556548\n",
      "iteration 19: dists = 27.996159037650276\n",
      "iteration 20: dists = 21.35436263309002\n",
      "iteration 21: dists = 9.186860488539484\n",
      "iteration 22: dists = 5.62319127221101\n",
      "iteration 23: dists = 11.149817728351678\n",
      "iteration 24: dists = 11.355990110571787\n",
      "iteration 25: dists = 4.390014146181825\n",
      "iteration 26: dists = 5.098768847636346\n",
      "iteration 27: dists = 5.825525378881017\n",
      "iteration 28: dists = 4.30223924236917\n",
      "iteration 29: dists = 4.240540082391459\n",
      "iteration 30: dists = 5.985479179928746\n",
      "iteration 31: dists = 7.964732852398941\n",
      "iteration 32: dists = 5.482403325942182\n",
      "iteration 33: dists = 4.56569014415443\n",
      "\n",
      "average IOU for 5 anchors: 0.76\n",
      "anchors: [7.49546,7.70589, 12.93272,13.18093, 15.36888,22.14079, 22.03487,17.36667, 25.14208,25.92849]\n"
     ]
    }
   ],
   "source": [
    "%run /src/yolo/utils/gen_anchors.py -c $config_path -a $nb_anchors"
   ]
  },
  {
   "attachments": {},
   "cell_type": "markdown",
   "metadata": {},
   "source": [
    "On peut reporter les anchor box dans le fichier de conﬁguration."
   ]
  },
  {
   "attachments": {},
   "cell_type": "markdown",
   "metadata": {},
   "source": [
    "## 2.2. Edition du fichier de configuration\n",
    "\n",
    "Ajuster au besoin les paramètres du fichier de conﬁguration."
   ]
  },
  {
   "attachments": {},
   "cell_type": "markdown",
   "metadata": {},
   "source": [
    "## 2.3. Entraînement du modèle\n",
    "\n",
    "Voir [script](../src/yolo/train.py)."
   ]
  },
  {
   "cell_type": "code",
   "execution_count": null,
   "metadata": {},
   "outputs": [],
   "source": [
    "config_path = '/datafiles/yolo/configs/benchmark_configs/example.json'"
   ]
  },
  {
   "cell_type": "code",
   "execution_count": null,
   "metadata": {},
   "outputs": [],
   "source": [
    "%run ../src/yolo/train.py -c $config_path"
   ]
  },
  {
   "attachments": {},
   "cell_type": "markdown",
   "metadata": {},
   "source": [
    "# 3. Evaluation du modèle\n",
    "\n",
    "Avec ce [script](../src/yolo/evaluate.py)."
   ]
  },
  {
   "cell_type": "code",
   "execution_count": 15,
   "metadata": {},
   "outputs": [],
   "source": [
    "config_path = '../datafiles/yolo/configs/benchmark_configs/example.json'\n",
    "weights_path = '../datafiles/yolo/saved_weights/Best_model_bestLoss.h5'"
   ]
  },
  {
   "cell_type": "code",
   "execution_count": null,
   "metadata": {},
   "outputs": [],
   "source": [
    "%run ../src/yolo/evaluate.py -c $config_path -w $weights_path"
   ]
  },
  {
   "attachments": {},
   "cell_type": "markdown",
   "metadata": {},
   "source": [
    "<p align=\"center\">\n",
    "    <strong> Pour les poids et les configurations ci-dessus, on obtient ces résultats </strong>\n",
    "  <br>\n",
    "\n",
    "  <img src=\"../datafiles/imgs_for_readme/results_yolo.png\" alt=\"résultats\" />\n",
    "</p>"
   ]
  },
  {
   "attachments": {},
   "cell_type": "markdown",
   "metadata": {},
   "source": [
    "# 4. Pipeline prédictions\n",
    "\n",
    "Avec ce [script](../src/yolo/predict.py).\n",
    "\n",
    "Qui prend les arguments suivants :\n",
    "\n",
    "* -c : chemin vers le fichier de configuration\n",
    "* -w : chemin vers les poids du modèle\n",
    "* -i : chemin vers le dossier d'images, la vidéo ou le csv contenant les chemins des images à prédire\n",
    "* -o : mode de sortie : \"image\" ou \"csv_input\"\n",
    "\n"
   ]
  },
  {
   "attachments": {},
   "cell_type": "markdown",
   "metadata": {},
   "source": [
    "On lancerait par exemple :\n",
    "\n",
    "```bash\n",
    "python predict.py -c ../datafiles/yolo/configs/benchmark_configs/example.json -w ../datafiles/yolo/weights/benchmark_weights/example.h5 -i ../datafiles/yolo/images/ -o csv_input\n",
    "```"
   ]
  },
  {
   "attachments": {},
   "cell_type": "markdown",
   "metadata": {},
   "source": [
    "# 5. Crop des prédictions"
   ]
  },
  {
   "cell_type": "code",
   "execution_count": null,
   "metadata": {},
   "outputs": [],
   "source": [
    "import os \n",
    "\n",
    "\n",
    "csv_path = \"/datafiles/crop/predictions_whole_dataset_cleaned_only_species_50_1000.csv\"\n",
    "cmd = \"python3 /src/crop/crop_from_csv.py  -c '\" + csv_path + \"' -t ../data_bees_detection/cropped_whole_dataset_cleaned_only_species_50_1000  -s  ../data_bees_detection/whole_dataset_cleaned\"\n",
    "\n",
    "os.system(cmd)"
   ]
  }
 ],
 "metadata": {
  "kernelspec": {
   "display_name": "venv_bees_detection",
   "language": "python",
   "name": "python3"
  },
  "language_info": {
   "codemirror_mode": {
    "name": "ipython",
    "version": 3
   },
   "file_extension": ".py",
   "mimetype": "text/x-python",
   "name": "python",
   "nbconvert_exporter": "python",
   "pygments_lexer": "ipython3",
   "version": "3.8.10"
  },
  "orig_nbformat": 4
 },
 "nbformat": 4,
 "nbformat_minor": 2
}
