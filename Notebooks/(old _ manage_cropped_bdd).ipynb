{
 "cells": [
  {
   "attachments": {},
   "cell_type": "markdown",
   "metadata": {},
   "source": [
    "# <center> <u>  <b> Manage cropped images </b>  </u> </center> "
   ]
  },
  {
   "cell_type": "code",
   "execution_count": 11,
   "metadata": {},
   "outputs": [],
   "source": [
    "import pandas as pd \n",
    "import os \n",
    "import shutilpath_bdd + '/\"' + label + '\"'"
   ]
  },
  {
   "cell_type": "code",
   "execution_count": 12,
   "metadata": {},
   "outputs": [],
   "source": [
    "! rm -r ../../data_bees_detection/whole_dataset_cropped\n",
    "! mkdir ../../data_bees_detection/whole_dataset_cropped\n"
   ]
  },
  {
   "cell_type": "code",
   "execution_count": 13,
   "metadata": {},
   "outputs": [
    {
     "data": {
      "text/plain": [
       "'../../data_bees_detection/cropped_dataset/whole_dataset_cropped_with_cleaned_structure/Hylaeus hyalinatus/whole_dataset_cropped_inat_25_04_inat_3_Hylaeus hyalinatus_207755263.jpg'"
      ]
     },
     "execution_count": 13,
     "metadata": {},
     "output_type": "execute_result"
    }
   ],
   "source": [
    "path_to_csv_with_predictions = '../datafiles/crop/0710_whole_dataset_cropped_paths.csv'\n",
    "\n",
    "path_to_csv_with_images = '../../data_bees_detection/cropped_dataset/whole_dataset_cropped_with_cleaned_structure/'\n",
    "\n",
    "\n",
    "df = pd.read_csv(path_to_csv_with_predictions,header=None)\n",
    "\n",
    "df.columns = ['paths']\n",
    "\n",
    "df.iloc[0,0]"
   ]
  },
  {
   "attachments": {},
   "cell_type": "markdown",
   "metadata": {},
   "source": [
    "Dossier/BDD_name"
   ]
  },
  {
   "cell_type": "code",
   "execution_count": 14,
   "metadata": {},
   "outputs": [],
   "source": [
    "bdds = ['LMDI','Spipoll','HS','inat_25_04','iNaturalist','Anthophila','Justine','DG']\n",
    "\n",
    "def find_bdd(x):\n",
    "        \n",
    "    for bdd in bdds:\n",
    "        \n",
    "        if bdd in x:\n",
    "\n",
    "            if 'inat_25_04' in x: \n",
    "\n",
    "                return 'inaturalist_2305','inat_25_04'\n",
    "\n",
    "            elif 'iNaturalist' in x:\n",
    "\n",
    "                return 'inaturalist_2205','iNaturalist'\n",
    "\n",
    "            else :\n",
    "\n",
    "                return str(bdd),str(bdd)\n",
    "\n",
    "def find_path(x):\n",
    "\n",
    "    bdd,old_bdd_name = find_bdd(x)\n",
    "\n",
    "    old_bdd_name = old_bdd_name + '_'\n",
    "\n",
    "    img_name = x.split('/')[-1]\n",
    "\n",
    "    label = x.split('/')[-2]\n",
    "\n",
    "    img_name = img_name.split(label)[-1].replace('_','')\n",
    "\n",
    "\n",
    "    return '../../data_bees_detection/whole_dataset_cropped/' + bdd + '/' + label + '/'+ str(img_name)\n",
    "\n"
   ]
  },
  {
   "cell_type": "code",
   "execution_count": 15,
   "metadata": {},
   "outputs": [],
   "source": [
    "df['new_paths'] = df['paths'].apply(lambda x : find_path(x))"
   ]
  },
  {
   "cell_type": "code",
   "execution_count": 16,
   "metadata": {},
   "outputs": [
    {
     "data": {
      "text/html": [
       "<div>\n",
       "<style scoped>\n",
       "    .dataframe tbody tr th:only-of-type {\n",
       "        vertical-align: middle;\n",
       "    }\n",
       "\n",
       "    .dataframe tbody tr th {\n",
       "        vertical-align: top;\n",
       "    }\n",
       "\n",
       "    .dataframe thead th {\n",
       "        text-align: right;\n",
       "    }\n",
       "</style>\n",
       "<table border=\"1\" class=\"dataframe\">\n",
       "  <thead>\n",
       "    <tr style=\"text-align: right;\">\n",
       "      <th></th>\n",
       "      <th>paths</th>\n",
       "      <th>new_paths</th>\n",
       "    </tr>\n",
       "  </thead>\n",
       "  <tbody>\n",
       "    <tr>\n",
       "      <th>0</th>\n",
       "      <td>../../data_bees_detection/cropped_dataset/whol...</td>\n",
       "      <td>../../data_bees_detection/whole_dataset_croppe...</td>\n",
       "    </tr>\n",
       "    <tr>\n",
       "      <th>1</th>\n",
       "      <td>../../data_bees_detection/cropped_dataset/whol...</td>\n",
       "      <td>../../data_bees_detection/whole_dataset_croppe...</td>\n",
       "    </tr>\n",
       "    <tr>\n",
       "      <th>2</th>\n",
       "      <td>../../data_bees_detection/cropped_dataset/whol...</td>\n",
       "      <td>../../data_bees_detection/whole_dataset_croppe...</td>\n",
       "    </tr>\n",
       "    <tr>\n",
       "      <th>3</th>\n",
       "      <td>../../data_bees_detection/cropped_dataset/whol...</td>\n",
       "      <td>../../data_bees_detection/whole_dataset_croppe...</td>\n",
       "    </tr>\n",
       "    <tr>\n",
       "      <th>4</th>\n",
       "      <td>../../data_bees_detection/cropped_dataset/whol...</td>\n",
       "      <td>../../data_bees_detection/whole_dataset_croppe...</td>\n",
       "    </tr>\n",
       "  </tbody>\n",
       "</table>\n",
       "</div>"
      ],
      "text/plain": [
       "                                               paths  \\\n",
       "0  ../../data_bees_detection/cropped_dataset/whol...   \n",
       "1  ../../data_bees_detection/cropped_dataset/whol...   \n",
       "2  ../../data_bees_detection/cropped_dataset/whol...   \n",
       "3  ../../data_bees_detection/cropped_dataset/whol...   \n",
       "4  ../../data_bees_detection/cropped_dataset/whol...   \n",
       "\n",
       "                                           new_paths  \n",
       "0  ../../data_bees_detection/whole_dataset_croppe...  \n",
       "1  ../../data_bees_detection/whole_dataset_croppe...  \n",
       "2  ../../data_bees_detection/whole_dataset_croppe...  \n",
       "3  ../../data_bees_detection/whole_dataset_croppe...  \n",
       "4  ../../data_bees_detection/whole_dataset_croppe...  "
      ]
     },
     "execution_count": 16,
     "metadata": {},
     "output_type": "execute_result"
    }
   ],
   "source": [
    "df.head()"
   ]
  },
  {
   "cell_type": "code",
   "execution_count": 17,
   "metadata": {},
   "outputs": [],
   "source": [
    "for row, path in enumerate(df['new_paths']):\n",
    "\n",
    "    # bdd \n",
    "    bdd = path.split('/')[-3]   \n",
    "    path_bdd = os.path.join('../../data_bees_detection/whole_dataset_cropped',bdd)\n",
    "\n",
    "    # label\n",
    "    label = path.split('/')[-2]\n",
    "    path_label = os.path.join(path_bdd,label)\n",
    "\n",
    "    if not os.path.exists(path_bdd):\n",
    "        os.mkdir(path_bdd)\n",
    "    \n",
    "    if not os.path.exists(path_label):\n",
    "        os.mkdir(path_label)\n",
    "\n",
    "    # copy image\n",
    "    shutil.copy(df.iloc[row,0],path_label)\n"
   ]
  },
  {
   "attachments": {},
   "cell_type": "markdown",
   "metadata": {},
   "source": [
    "# Changer le nom des prédictions\n"
   ]
  },
  {
   "attachments": {},
   "cell_type": "markdown",
   "metadata": {},
   "source": []
  }
 ],
 "metadata": {
  "kernelspec": {
   "display_name": "Python 3",
   "language": "python",
   "name": "python3"
  },
  "language_info": {
   "codemirror_mode": {
    "name": "ipython",
    "version": 3
   },
   "file_extension": ".py",
   "mimetype": "text/x-python",
   "name": "python",
   "nbconvert_exporter": "python",
   "pygments_lexer": "ipython3",
   "version": "3.8.10"
  },
  "orig_nbformat": 4
 },
 "nbformat": 4,
 "nbformat_minor": 2
}
