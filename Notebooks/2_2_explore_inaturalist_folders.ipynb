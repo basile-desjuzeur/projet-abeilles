{
 "cells": [
  {
   "attachments": {},
   "cell_type": "markdown",
   "metadata": {},
   "source": [
    "# <center> <u>**iNaturalist** </u></center>\n",
    "\n",
    "\n"
   ]
  },
  {
   "attachments": {},
   "cell_type": "markdown",
   "metadata": {},
   "source": [
    "\n",
    "# Contexte\n",
    "\n",
    "Il ya un certain nombre de problèmes et de conflits avec ces trois bdd\n",
    "\n",
    "* inaturalist_2205 : Axel \n",
    "* inaturalist_2305 : Basile  \n",
    "* inaturalist_2305_france : Basile \n",
    "\n",
    "\n",
    "On va tenter d'y répondre et de décrire les trois bases de données à disposition."
   ]
  },
  {
   "attachments": {},
   "cell_type": "markdown",
   "metadata": {},
   "source": [
    "## 1. Photo_id pas unique entre les bases de données\n"
   ]
  },
  {
   "attachments": {},
   "cell_type": "markdown",
   "metadata": {},
   "source": [
    "**Par exemple :**\n",
    "\n",
    "* data_bees_detection/whole_dataset/inaturalist_2305/Aglaoapis tridentata/82888774.jpg.\n",
    "* data_bees_detection/whole_dataset/inaturalist_2205/Aglaoapis tridentata39788.jpg.\n",
    "\n",
    "Qui est actuellement stockée à l'url [suivante](https://inaturalist-open-data.s3.amazonaws.com/photos/82888774/medium.jpg).\n",
    "\n",
    "(Ce n'est pas un cas isolé)\n",
    "\n",
    "**Deux hypothèes :**\n",
    "\n",
    "* la manière ont a été enregistré inaturalist_2205 n'est pas espèces+photo_id\n",
    "* les photo_id ont changé entre les deux téléchargements des csv de métadonnées\n",
    "\n",
    "**Conclusion :**\n",
    "\n",
    "* pour comparer les photos :\n",
    "    * soit c'est à métadonnées égales\n",
    "    * soit c'est on doit comparer les photos en elle même \n",
    "\n",
    "* pour updater la base de données locale avec les nouvelles photos, il faut garder une trace des photo_id \n"
   ]
  },
  {
   "attachments": {},
   "cell_type": "markdown",
   "metadata": {},
   "source": [
    "## 2. Certaines photos sont sur inaturalist_2205 mais pas sur inaturalist_2305_france\n",
    "\n",
    "**Par exemple :**\n",
    "\n",
    "* data_bees_detection/whole_dataset/inaturalist_2205/Aglaopis tridentada/82888774.jpg\n",
    "\n",
    "**Requète envoyée à inat.db :** \n",
    "\n",
    "```\n",
    "Select latitude,longitude,observed_on from observations\n",
    "Where observations.observation_uuid =\n",
    "(Select observation_uuid from photos \n",
    "where photos.photo_id = 82888774);\n",
    "```\n",
    "\n",
    "**Résultat :** \n",
    "\n",
    "* Latitude : 50.2371548116\n",
    "* Longitude : 14.8952773887\n",
    "* Observed on : 2020-07-01\n",
    "\n",
    "Après [vérif](https://www.google.com/maps/@50.2371548116,14.8952773887,12z?entry=ttu) c'est en République Tchèque. \n",
    "\n",
    "**Conclusion :** \n",
    "\n",
    "inaturalist_2205 n'est pas filtrée sur la France.\n",
    "\n",
    "Quel filtre a été appliqué à inaturalist_2205 ?\n",
    "\n",
    "A creuser ..\n"
   ]
  },
  {
   "attachments": {},
   "cell_type": "markdown",
   "metadata": {},
   "source": [
    "# 2. Caractérisation des bdd"
   ]
  },
  {
   "attachments": {},
   "cell_type": "markdown",
   "metadata": {},
   "source": [
    "## 2.1 Nombre de photos par BDD"
   ]
  },
  {
   "cell_type": "code",
   "execution_count": null,
   "metadata": {},
   "outputs": [
    {
     "ename": "",
     "evalue": "",
     "output_type": "error",
     "traceback": [
      "\u001b[1;31mRunning cells with 'venv_bees_detection' requires the ipykernel package.\n",
      "\u001b[1;31mRun the following command to install 'ipykernel' into the Python environment. \n",
      "\u001b[1;31mCommand: '/home/basile/Documents/projet_bees_detection_basile/venv_bees_detection/bin/python -m pip install ipykernel -U --force-reinstall'"
     ]
    }
   ],
   "source": [
    "inaturalist_2305_france = !find \"../../data_bees_detection/whole_dataset/inaturalist_2305_france\" -type f | wc -l \n",
    "inaturalist_2305 = !find \"../../data_bees_detection/whole_dataset/inaturalist_2305\" -type f | wc -l\n",
    "inaturalist_2205 = !find \"../../data_bees_detection/whole_dataset/inaturalist_2205\" -type f | wc -l\n",
    "\n",
    "inaturalist_2205_2307 = int(inaturalist_2305_france[0])\n",
    "inaturalist_2305 = int(inaturalist_2305[0])\n",
    "inaturalist_2205 = int(inaturalist_2205[0])\n",
    "\n",
    "import matplotlib.pyplot as plt\n",
    "\n",
    "labels = '2305 : France', '2305 : World ', '2205 : World'\n",
    "plt.figure(figsize=(10, 5))\n",
    "plt.bar(labels, [inaturalist_2205_2307, inaturalist_2305, inaturalist_2205])\n",
    "plt.title('Number of images per dataset')\n",
    "plt.show()"
   ]
  },
  {
   "attachments": {},
   "cell_type": "markdown",
   "metadata": {},
   "source": [
    "## 2.2 Nombre d'espèces par BDD"
   ]
  },
  {
   "cell_type": "code",
   "execution_count": null,
   "metadata": {},
   "outputs": [],
   "source": []
  },
  {
   "cell_type": "code",
   "execution_count": null,
   "metadata": {},
   "outputs": [],
   "source": []
  },
  {
   "cell_type": "code",
   "execution_count": null,
   "metadata": {},
   "outputs": [],
   "source": []
  },
  {
   "cell_type": "code",
   "execution_count": null,
   "metadata": {},
   "outputs": [],
   "source": []
  },
  {
   "cell_type": "code",
   "execution_count": null,
   "metadata": {},
   "outputs": [],
   "source": []
  },
  {
   "cell_type": "code",
   "execution_count": null,
   "metadata": {},
   "outputs": [],
   "source": []
  },
  {
   "cell_type": "code",
   "execution_count": null,
   "metadata": {},
   "outputs": [],
   "source": []
  },
  {
   "attachments": {},
   "cell_type": "markdown",
   "metadata": {},
   "source": [
    "## 3. Provenance géographique des photos de chaque BDD\n",
    "\n",
    "* inat_25_04 : Monde\n",
    "* inaturalist_2305_france : France\n",
    "* inaturalist_2205 : ??\n",
    "\n",
    "Les csv sont trop volumineux, on est obligés de passer par une base de données pour les manipuler."
   ]
  },
  {
   "attachments": {},
   "cell_type": "markdown",
   "metadata": {},
   "source": [
    "### 2.2.1 Tout migrer dans inat.db"
   ]
  },
  {
   "attachments": {},
   "cell_type": "markdown",
   "metadata": {},
   "source": [
    "#### 2.2.1.1 inaturalist_2205 >> inaturalist_2205"
   ]
  },
  {
   "cell_type": "code",
   "execution_count": 1,
   "metadata": {},
   "outputs": [
    {
     "name": "stdout",
     "output_type": "stream",
     "text": [
      "['jpeg', 'jpg', 'png', 'gif', 'txt']\n"
     ]
    }
   ],
   "source": [
    "import os \n",
    "import re \n",
    "import pandas as pd\n",
    "\n",
    "inaturalist_2205_path = '../../data_bees_detection/whole_dataset/inaturalist_2205'\n",
    "\n",
    "\n",
    "extensions = []\n",
    "for root,dirs,files in os.walk(inaturalist_2205_path):\n",
    "    for file in files:\n",
    "        \n",
    "        \n",
    "        extension = file.split('.')[-1]\n",
    "\n",
    "        if extension not in extensions:\n",
    "            extensions.append(extension)\n",
    "\n",
    "print(extensions)"
   ]
  },
  {
   "cell_type": "code",
   "execution_count": 2,
   "metadata": {},
   "outputs": [
    {
     "data": {
      "text/html": [
       "<div>\n",
       "<style scoped>\n",
       "    .dataframe tbody tr th:only-of-type {\n",
       "        vertical-align: middle;\n",
       "    }\n",
       "\n",
       "    .dataframe tbody tr th {\n",
       "        vertical-align: top;\n",
       "    }\n",
       "\n",
       "    .dataframe thead th {\n",
       "        text-align: right;\n",
       "    }\n",
       "</style>\n",
       "<table border=\"1\" class=\"dataframe\">\n",
       "  <thead>\n",
       "    <tr style=\"text-align: right;\">\n",
       "      <th></th>\n",
       "      <th>photo_id</th>\n",
       "      <th>genus_species</th>\n",
       "    </tr>\n",
       "  </thead>\n",
       "  <tbody>\n",
       "    <tr>\n",
       "      <th>0</th>\n",
       "      <td>74664</td>\n",
       "      <td>Hylaeus hyalinatus</td>\n",
       "    </tr>\n",
       "    <tr>\n",
       "      <th>1</th>\n",
       "      <td>45667</td>\n",
       "      <td>Hylaeus hyalinatus</td>\n",
       "    </tr>\n",
       "    <tr>\n",
       "      <th>2</th>\n",
       "      <td>34725</td>\n",
       "      <td>Hylaeus hyalinatus</td>\n",
       "    </tr>\n",
       "    <tr>\n",
       "      <th>3</th>\n",
       "      <td>36229</td>\n",
       "      <td>Hylaeus hyalinatus</td>\n",
       "    </tr>\n",
       "    <tr>\n",
       "      <th>4</th>\n",
       "      <td>33326</td>\n",
       "      <td>Hylaeus hyalinatus</td>\n",
       "    </tr>\n",
       "  </tbody>\n",
       "</table>\n",
       "</div>"
      ],
      "text/plain": [
       "  photo_id       genus_species\n",
       "0    74664  Hylaeus hyalinatus\n",
       "1    45667  Hylaeus hyalinatus\n",
       "2    34725  Hylaeus hyalinatus\n",
       "3    36229  Hylaeus hyalinatus\n",
       "4    33326  Hylaeus hyalinatus"
      ]
     },
     "execution_count": 2,
     "metadata": {},
     "output_type": "execute_result"
    }
   ],
   "source": [
    "# get the photo id out of the file names\n",
    "# registered as genus speciesphoto_id.extension\n",
    "\n",
    "\n",
    "def extract_genus_species(file_name):\n",
    "    # Extract genus and species using regular expressions\n",
    "    match = re.match(r\"(\\w+)\\s([a-zA-Z]+)(\\d+)\", file_name)\n",
    "\n",
    "    if match:\n",
    "        genus = match.group(1)\n",
    "        species = match.group(2)\n",
    "        photo_id = match.group(3)\n",
    "    else:\n",
    "        return 'error','error'\n",
    "\n",
    "    return genus+' '+species, photo_id \n",
    "\n",
    "\n",
    "\n",
    "dict_inaturalist_2205 = {}\n",
    "for root,dirs,files in os.walk(inaturalist_2205_path):\n",
    "    for file in files:\n",
    "        \n",
    "        genus_species,photo_id = extract_genus_species(file)\n",
    "        dict_inaturalist_2205[photo_id] = genus_species\n",
    "\n",
    "df_inaturalist_2205 = pd.DataFrame.from_dict(dict_inaturalist_2205, orient='index')\n",
    "\n",
    "df_inaturalist_2205.reset_index(inplace=True)\n",
    "\n",
    "df_inaturalist_2205.columns = ['photo_id', 'genus_species']\n",
    "\n",
    "df_inaturalist_2205.head()\n",
    "\n",
    "\n"
   ]
  },
  {
   "attachments": {},
   "cell_type": "markdown",
   "metadata": {},
   "source": [
    "Passage dans la base inat.db : \n"
   ]
  },
  {
   "cell_type": "code",
   "execution_count": null,
   "metadata": {},
   "outputs": [],
   "source": [
    "df_inaturalist_2205.to_csv('../../data_bees_detection/inat_utils/inaturalist_2205.csv',index=False)"
   ]
  },
  {
   "attachments": {},
   "cell_type": "markdown",
   "metadata": {},
   "source": [
    "Suite de commandes : \n",
    "\n",
    "```\n",
    "cd '../.../data_bees_detection/inat_utils'\n",
    "sqlite3 inat.db\n",
    "\n",
    "CREATE TABLE inaturalist_2205 (\n",
    "    photo_id INTEGER,\n",
    "    taxon_name varying character(255),\n",
    ");\n",
    "\n",
    "\n",
    "CREATE UNIQUE INDEX \"idx_inaturalist_2205_photo_id\" ON \"inaturalist_2205\" (\n",
    "    \"photo_id\"\n",
    ");\n",
    "\n",
    "CREATE INDEX \"idx_inaturalist_2205_taxon_name\" ON \"inaturalist_2205\" (\n",
    "    \"taxon_name\"\n",
    ");\n",
    "\n",
    "\n",
    "\n",
    ".mode csv\n",
    ".import .inaturalist_2205.csv inaturalist_2205\n",
    "```\n",
    "\n",
    "Est considérée commme ok une photo ayant meme photo_id et meme taxon_id dans inaturalist_2205 et inat_05_04.\n",
    "(Comme vu précédemment ca ne concerne pas toutes les photos)\n",
    "\n",
    "\n"
   ]
  },
  {
   "attachments": {},
   "cell_type": "markdown",
   "metadata": {},
   "source": [
    "#### 2.2.2.1 inat_25_04 >> inaturalist_2305"
   ]
  },
  {
   "cell_type": "code",
   "execution_count": 4,
   "metadata": {},
   "outputs": [],
   "source": [
    "import re \n",
    "import pandas as pd\n",
    "import os \n",
    "\n",
    "dict = {}\n",
    "\n",
    "for root,dirs,files in os.walk('../../data_bees_detection/whole_dataset/inat_25_04'):\n",
    "\n",
    "    for file in files : \n",
    "\n",
    "        file_path = os.path.join(root,file)\n",
    "\n",
    "        genus_species = file_path.split('/')[-2]\n",
    "        photo_id = file_path.split('/')[-1].split('.')[0]\n",
    "\n",
    "        dict[photo_id] = genus_species\n",
    "\n",
    "\n",
    "df_inaturalist_2205 = pd.DataFrame.from_dict(dict, orient='index')\n",
    "\n",
    "df_inaturalist_2205.reset_index(inplace=True)\n",
    "\n",
    "df_inaturalist_2205.columns = ['photo_id', 'genus_species']\n",
    "\n",
    "df_inaturalist_2205.head()\n",
    "\n",
    "df_inaturalist_2205.to_csv('../../data_bees_detection/inat_utils/inaturalist_2305.csv',index=False)"
   ]
  },
  {
   "attachments": {},
   "cell_type": "markdown",
   "metadata": {},
   "source": [
    "Migrate to inat : mêmes commmande que précédemment"
   ]
  },
  {
   "attachments": {},
   "cell_type": "markdown",
   "metadata": {},
   "source": [
    "### 2.2.2 Requêter inat.db"
   ]
  },
  {
   "attachments": {},
   "cell_type": "markdown",
   "metadata": {},
   "source": [
    "SELECT o.latitude, o.longitude\n",
    "FROM observations o\n",
    "JOIN photos p ON o.observation_uuid = p.observation_uuid\n",
    "JOIN inaturalist_2305 i1 ON p.photo_id = i1.photo_id\n",
    "JOIN inaturalist_2205 i2 ON i1.photo_id = i2.photo_id AND i1.taxon_name = i2.name;\n"
   ]
  }
 ],
 "metadata": {
  "kernelspec": {
   "display_name": "venv_bees_detection",
   "language": "python",
   "name": "python3"
  },
  "language_info": {
   "codemirror_mode": {
    "name": "ipython",
    "version": 3
   },
   "file_extension": ".py",
   "mimetype": "text/x-python",
   "name": "python",
   "nbconvert_exporter": "python",
   "pygments_lexer": "ipython3",
   "version": "3.8.10"
  },
  "orig_nbformat": 4
 },
 "nbformat": 4,
 "nbformat_minor": 2
}
