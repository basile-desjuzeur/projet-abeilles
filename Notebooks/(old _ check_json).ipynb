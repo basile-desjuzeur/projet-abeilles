{
 "cells": [
  {
   "cell_type": "code",
   "execution_count": 2,
   "metadata": {},
   "outputs": [],
   "source": [
    "import os \n",
    "import pandas as pd\n",
    "import json\n"
   ]
  },
  {
   "cell_type": "code",
   "execution_count": 3,
   "metadata": {},
   "outputs": [],
   "source": [
    "path_to_jsons = '../../data_bees_detection/BD_71_Annotations/JSON'"
   ]
  },
  {
   "cell_type": "code",
   "execution_count": 4,
   "metadata": {},
   "outputs": [],
   "source": [
    "def parse_json(path_to_json): \n",
    "\n",
    "    \"\"\"\n",
    "    Json is builrt as follow: \n",
    "\n",
    "    {\"file_path\":\"./BD_71/Andrena agilissima/Andrena agilissima10208.jpeg\",\n",
    "    \"area\":212586.49553571426,\n",
    "    \"boxes\":[\n",
    "        {\"xmin\":0.0175,\"ymin\":0.004464285714285714,\"xmax\":0.9821428571428571,\"ymax\":0.9871244635193133}\n",
    "        ],\n",
    "        \"visited\":1,\n",
    "        \"specie\":\"Andrena agilissima\"\n",
    "    }\n",
    "        \n",
    "    \"\"\"\n",
    "\n",
    "    with open(path_to_json) as json_file:\n",
    "        data = json.load(json_file)\n",
    "\n",
    "\n",
    "    # specie\n",
    "    specie = data[0]['specie']  \n",
    "\n",
    "    # count number of appearences of file_path in json\n",
    "\n",
    "    file_paths = len(data)\n",
    "\n",
    "\n",
    "\n",
    "    boxes = 0\n",
    "    for i in range(file_paths):\n",
    "\n",
    "        nb_boxes = len(data[i]['boxes'])\n",
    "\n",
    "        boxes += nb_boxes\n",
    "\n",
    "    verified = 0\n",
    "    not_verified = 0\n",
    "    for i in range(file_paths):\n",
    "\n",
    "        nb_verified = data[i]['visited']\n",
    "\n",
    "        if nb_verified == 1:\n",
    "            verified += nb_verified\n",
    "\n",
    "        else:\n",
    "            not_verified += nb_verified\n",
    "\n",
    "\n",
    "    return file_paths, boxes,specie, verified, not_verified\n",
    "\n",
    "    \n",
    "    "
   ]
  },
  {
   "cell_type": "code",
   "execution_count": 5,
   "metadata": {},
   "outputs": [
    {
     "name": "stdout",
     "output_type": "stream",
     "text": [
      "213 233 Amegilla quadrifasciata 213 0\n"
     ]
    }
   ],
   "source": [
    "file_paths, boxes, specie, verified, not_verified = parse_json('../../data_bees_detection/BD_71_Annotations/JSON/Amegilla quadrifasciata.json')\n",
    "\n",
    "print(file_paths, boxes, specie, verified, not_verified)"
   ]
  },
  {
   "cell_type": "code",
   "execution_count": 6,
   "metadata": {},
   "outputs": [],
   "source": [
    "path_to_jsons = [os.path.join(path_to_jsons, json_file) for json_file in os.listdir(path_to_jsons) ]\n",
    "\n",
    "df = pd.DataFrame(columns=['file_paths', 'boxes', 'specie', 'verified', 'not_verified'])\n",
    "\n",
    "for path_to_json in path_to_jsons:\n",
    "    \n",
    "        file_paths, boxes, specie, verified, not_verified = parse_json(path_to_json)\n",
    "\n",
    "        df_temp = pd.DataFrame([[file_paths, boxes, specie, verified, not_verified]], columns=['file_paths', 'boxes', 'specie', 'verified', 'not_verified'])\n",
    "        \n",
    "        df = pd.concat([df, df_temp], ignore_index=True)"
   ]
  },
  {
   "cell_type": "code",
   "execution_count": 8,
   "metadata": {},
   "outputs": [
    {
     "name": "stdout",
     "output_type": "stream",
     "text": [
      "Nombre d'images décrites: 104768\n",
      "Nombre de boxes: 105833\n",
      "Nombre d'images' vérifiées: 23738\n"
     ]
    }
   ],
   "source": [
    "nb_img_décrites = df[\"file_paths\"].sum()\n",
    "nb_boxes = df[\"boxes\"].sum()\n",
    "nb_verified = df[\"verified\"].sum()\n",
    "\n",
    "print(f\"Nombre d'images décrites: {nb_img_décrites}\")\n",
    "print(f\"Nombre de boxes: {nb_boxes}\")\n",
    "print(f\"Nombre d'images' vérifiées: {nb_verified}\")\n"
   ]
  }
 ],
 "metadata": {
  "kernelspec": {
   "display_name": "venv_bees_detection",
   "language": "python",
   "name": "python3"
  },
  "language_info": {
   "codemirror_mode": {
    "name": "ipython",
    "version": 3
   },
   "file_extension": ".py",
   "mimetype": "text/x-python",
   "name": "python",
   "nbconvert_exporter": "python",
   "pygments_lexer": "ipython3",
   "version": "3.8.10"
  },
  "orig_nbformat": 4
 },
 "nbformat": 4,
 "nbformat_minor": 2
}
