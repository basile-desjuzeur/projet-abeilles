{
 "cells": [
  {
   "attachments": {},
   "cell_type": "markdown",
   "metadata": {},
   "source": [
    "# <center> <u>**Quelques chiffres** </u></center>"
   ]
  },
  {
   "attachments": {},
   "cell_type": "markdown",
   "metadata": {},
   "source": [
    "# 1. Detection"
   ]
  },
  {
   "cell_type": "code",
   "execution_count": 24,
   "metadata": {},
   "outputs": [
    {
     "data": {
      "text/html": [
       "<div>\n",
       "<style scoped>\n",
       "    .dataframe tbody tr th:only-of-type {\n",
       "        vertical-align: middle;\n",
       "    }\n",
       "\n",
       "    .dataframe tbody tr th {\n",
       "        vertical-align: top;\n",
       "    }\n",
       "\n",
       "    .dataframe thead th {\n",
       "        text-align: right;\n",
       "    }\n",
       "</style>\n",
       "<table border=\"1\" class=\"dataframe\">\n",
       "  <thead>\n",
       "    <tr style=\"text-align: right;\">\n",
       "      <th></th>\n",
       "      <th>path</th>\n",
       "      <th>xmin</th>\n",
       "      <th>ymin</th>\n",
       "      <th>xmax</th>\n",
       "      <th>ymax</th>\n",
       "      <th>label</th>\n",
       "      <th>width</th>\n",
       "      <th>height</th>\n",
       "    </tr>\n",
       "  </thead>\n",
       "  <tbody>\n",
       "    <tr>\n",
       "      <th>0</th>\n",
       "      <td>BD_71/Dasypoda hirtipes/Dasypoda hirtipes53078...</td>\n",
       "      <td>43.571429</td>\n",
       "      <td>17.857143</td>\n",
       "      <td>488.00</td>\n",
       "      <td>460.507812</td>\n",
       "      <td>Dasypoda hirtipes</td>\n",
       "      <td>488</td>\n",
       "      <td>500</td>\n",
       "    </tr>\n",
       "    <tr>\n",
       "      <th>1</th>\n",
       "      <td>BD_71/Dasypoda hirtipes/Dasypoda hirtipes84465...</td>\n",
       "      <td>0.000000</td>\n",
       "      <td>1.757812</td>\n",
       "      <td>498.75</td>\n",
       "      <td>495.507812</td>\n",
       "      <td>Dasypoda hirtipes</td>\n",
       "      <td>500</td>\n",
       "      <td>500</td>\n",
       "    </tr>\n",
       "    <tr>\n",
       "      <th>2</th>\n",
       "      <td>BD_71/Dasypoda hirtipes/Dasypoda hirtipes78927...</td>\n",
       "      <td>0.000000</td>\n",
       "      <td>135.507812</td>\n",
       "      <td>367.50</td>\n",
       "      <td>449.257812</td>\n",
       "      <td>Dasypoda hirtipes</td>\n",
       "      <td>500</td>\n",
       "      <td>500</td>\n",
       "    </tr>\n",
       "    <tr>\n",
       "      <th>3</th>\n",
       "      <td>BD_71/Dasypoda hirtipes/eucera_chic_prof.jpg</td>\n",
       "      <td>37.500000</td>\n",
       "      <td>31.757813</td>\n",
       "      <td>411.25</td>\n",
       "      <td>478.007812</td>\n",
       "      <td>Dasypoda hirtipes</td>\n",
       "      <td>498</td>\n",
       "      <td>500</td>\n",
       "    </tr>\n",
       "    <tr>\n",
       "      <th>4</th>\n",
       "      <td>BD_71/Dasypoda hirtipes/Dasypoda hirtipes77381...</td>\n",
       "      <td>28.750000</td>\n",
       "      <td>10.507813</td>\n",
       "      <td>497.50</td>\n",
       "      <td>358.007812</td>\n",
       "      <td>Dasypoda hirtipes</td>\n",
       "      <td>500</td>\n",
       "      <td>373</td>\n",
       "    </tr>\n",
       "  </tbody>\n",
       "</table>\n",
       "</div>"
      ],
      "text/plain": [
       "                                                path       xmin        ymin  \\\n",
       "0  BD_71/Dasypoda hirtipes/Dasypoda hirtipes53078...  43.571429   17.857143   \n",
       "1  BD_71/Dasypoda hirtipes/Dasypoda hirtipes84465...   0.000000    1.757812   \n",
       "2  BD_71/Dasypoda hirtipes/Dasypoda hirtipes78927...   0.000000  135.507812   \n",
       "3       BD_71/Dasypoda hirtipes/eucera_chic_prof.jpg  37.500000   31.757813   \n",
       "4  BD_71/Dasypoda hirtipes/Dasypoda hirtipes77381...  28.750000   10.507813   \n",
       "\n",
       "     xmax        ymax              label  width  height  \n",
       "0  488.00  460.507812  Dasypoda hirtipes    488     500  \n",
       "1  498.75  495.507812  Dasypoda hirtipes    500     500  \n",
       "2  367.50  449.257812  Dasypoda hirtipes    500     500  \n",
       "3  411.25  478.007812  Dasypoda hirtipes    498     500  \n",
       "4  497.50  358.007812  Dasypoda hirtipes    500     373  "
      ]
     },
     "execution_count": 24,
     "metadata": {},
     "output_type": "execute_result"
    }
   ],
   "source": [
    "import pandas as pd\n",
    "import matplotlib.pyplot as plt\n",
    "import seaborn as sns\n",
    "import os\n",
    "\n",
    "\n",
    "df = pd.read_csv('../datafiles/yolo/inputs/yolo_raw_dataset.csv')\n",
    "\n",
    "df.head()"
   ]
  },
  {
   "attachments": {},
   "cell_type": "markdown",
   "metadata": {},
   "source": [
    "# 2. Classification"
   ]
  },
  {
   "cell_type": "code",
   "execution_count": 5,
   "metadata": {},
   "outputs": [
    {
     "data": {
      "text/html": [
       "<div>\n",
       "<style scoped>\n",
       "    .dataframe tbody tr th:only-of-type {\n",
       "        vertical-align: middle;\n",
       "    }\n",
       "\n",
       "    .dataframe tbody tr th {\n",
       "        vertical-align: top;\n",
       "    }\n",
       "\n",
       "    .dataframe thead th {\n",
       "        text-align: right;\n",
       "    }\n",
       "</style>\n",
       "<table border=\"1\" class=\"dataframe\">\n",
       "  <thead>\n",
       "    <tr style=\"text-align: right;\">\n",
       "      <th></th>\n",
       "      <th>paths</th>\n",
       "      <th>extensions</th>\n",
       "    </tr>\n",
       "  </thead>\n",
       "  <tbody>\n",
       "    <tr>\n",
       "      <th>0</th>\n",
       "      <td>../../data_bees_detection/whole_dataset/inatur...</td>\n",
       "      <td>jpg</td>\n",
       "    </tr>\n",
       "    <tr>\n",
       "      <th>1</th>\n",
       "      <td>../../data_bees_detection/whole_dataset/inatur...</td>\n",
       "      <td>jpg</td>\n",
       "    </tr>\n",
       "    <tr>\n",
       "      <th>2</th>\n",
       "      <td>../../data_bees_detection/whole_dataset/inatur...</td>\n",
       "      <td>jpg</td>\n",
       "    </tr>\n",
       "    <tr>\n",
       "      <th>3</th>\n",
       "      <td>../../data_bees_detection/whole_dataset/inatur...</td>\n",
       "      <td>jpg</td>\n",
       "    </tr>\n",
       "    <tr>\n",
       "      <th>4</th>\n",
       "      <td>../../data_bees_detection/whole_dataset/inatur...</td>\n",
       "      <td>jpg</td>\n",
       "    </tr>\n",
       "  </tbody>\n",
       "</table>\n",
       "</div>"
      ],
      "text/plain": [
       "                                               paths extensions\n",
       "0  ../../data_bees_detection/whole_dataset/inatur...        jpg\n",
       "1  ../../data_bees_detection/whole_dataset/inatur...        jpg\n",
       "2  ../../data_bees_detection/whole_dataset/inatur...        jpg\n",
       "3  ../../data_bees_detection/whole_dataset/inatur...        jpg\n",
       "4  ../../data_bees_detection/whole_dataset/inatur...        jpg"
      ]
     },
     "execution_count": 5,
     "metadata": {},
     "output_type": "execute_result"
    }
   ],
   "source": [
    "df = pd.read_csv('../datafiles/classification/0710_classification_paths.csv',encoding_errors='ignore',sep=';',header=None)\n",
    "df.columns = ['paths']\n",
    "\n",
    "df['extensions'] = df['paths'].apply(lambda x : x.split('.')[-1])\n",
    "\n",
    "\n",
    "df.head()"
   ]
  },
  {
   "attachments": {},
   "cell_type": "markdown",
   "metadata": {},
   "source": [
    "# 3. Répartition des bdd par esp dans le dataset final "
   ]
  },
  {
   "cell_type": "code",
   "execution_count": null,
   "metadata": {},
   "outputs": [],
   "source": [
    "df = pd.read_csv('../datafiles/classification/')\n"
   ]
  }
 ],
 "metadata": {
  "kernelspec": {
   "display_name": "venv_bees_detection",
   "language": "python",
   "name": "python3"
  },
  "language_info": {
   "codemirror_mode": {
    "name": "ipython",
    "version": 3
   },
   "file_extension": ".py",
   "mimetype": "text/x-python",
   "name": "python",
   "nbconvert_exporter": "python",
   "pygments_lexer": "ipython3",
   "version": "3.8.10"
  },
  "orig_nbformat": 4
 },
 "nbformat": 4,
 "nbformat_minor": 2
}
